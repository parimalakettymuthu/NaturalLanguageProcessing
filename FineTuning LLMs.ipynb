{
 "cells": [
  {
   "cell_type": "code",
   "execution_count": 1,
   "metadata": {},
   "outputs": [
    {
     "name": "stdout",
     "output_type": "stream",
     "text": [
      "Collecting gradientai\n",
      "  Downloading gradientai-1.7.0-py3-none-any.whl.metadata (1.3 kB)\n",
      "Collecting aenum>=3.1.11 (from gradientai)\n",
      "  Downloading aenum-3.1.15-py3-none-any.whl.metadata (3.7 kB)\n",
      "Collecting pydantic<2.0.0,>=1.10.5 (from gradientai)\n",
      "  Downloading pydantic-1.10.14-cp311-cp311-win_amd64.whl.metadata (151 kB)\n",
      "     ---------------------------------------- 0.0/151.6 kB ? eta -:--:--\n",
      "     -- ------------------------------------- 10.2/151.6 kB ? eta -:--:--\n",
      "     ------- ----------------------------- 30.7/151.6 kB 660.6 kB/s eta 0:00:01\n",
      "     --------- --------------------------- 41.0/151.6 kB 495.5 kB/s eta 0:00:01\n",
      "     ------------------- ----------------- 81.9/151.6 kB 512.0 kB/s eta 0:00:01\n",
      "     ---------------------- -------------- 92.2/151.6 kB 476.3 kB/s eta 0:00:01\n",
      "     ------------------------------------ 151.6/151.6 kB 648.3 kB/s eta 0:00:00\n",
      "Requirement already satisfied: python-dateutil>=2.8.2 in c:\\users\\parim\\appdata\\local\\packages\\pythonsoftwarefoundation.python.3.11_qbz5n2kfra8p0\\localcache\\local-packages\\python311\\site-packages (from gradientai) (2.8.2)\n",
      "Requirement already satisfied: urllib3>=1.25.3 in c:\\users\\parim\\appdata\\local\\packages\\pythonsoftwarefoundation.python.3.11_qbz5n2kfra8p0\\localcache\\local-packages\\python311\\site-packages (from gradientai) (2.1.0)\n",
      "Requirement already satisfied: typing-extensions>=4.2.0 in c:\\users\\parim\\appdata\\local\\packages\\pythonsoftwarefoundation.python.3.11_qbz5n2kfra8p0\\localcache\\local-packages\\python311\\site-packages (from pydantic<2.0.0,>=1.10.5->gradientai) (4.9.0)\n",
      "Requirement already satisfied: six>=1.5 in c:\\users\\parim\\appdata\\local\\packages\\pythonsoftwarefoundation.python.3.11_qbz5n2kfra8p0\\localcache\\local-packages\\python311\\site-packages (from python-dateutil>=2.8.2->gradientai) (1.16.0)\n",
      "Downloading gradientai-1.7.0-py3-none-any.whl (270 kB)\n",
      "   ---------------------------------------- 0.0/270.4 kB ? eta -:--:--\n",
      "   ---------- ----------------------------- 71.7/270.4 kB ? eta -:--:--\n",
      "   --------------------- ------------------ 143.4/270.4 kB 2.1 MB/s eta 0:00:01\n",
      "   ---------------------------------------- 270.4/270.4 kB 2.4 MB/s eta 0:00:00\n",
      "Downloading aenum-3.1.15-py3-none-any.whl (137 kB)\n",
      "   ---------------------------------------- 0.0/137.6 kB ? eta -:--:--\n",
      "   ---------------------------------------- 137.6/137.6 kB 8.0 MB/s eta 0:00:00\n",
      "Downloading pydantic-1.10.14-cp311-cp311-win_amd64.whl (2.1 MB)\n",
      "   ---------------------------------------- 0.0/2.1 MB ? eta -:--:--\n",
      "   ---- ----------------------------------- 0.2/2.1 MB 14.7 MB/s eta 0:00:01\n",
      "   ------ --------------------------------- 0.3/2.1 MB 3.3 MB/s eta 0:00:01\n",
      "   --------- ------------------------------ 0.5/2.1 MB 3.9 MB/s eta 0:00:01\n",
      "   --------- ------------------------------ 0.5/2.1 MB 3.9 MB/s eta 0:00:01\n",
      "   ----------- ---------------------------- 0.6/2.1 MB 2.6 MB/s eta 0:00:01\n",
      "   ------------------- -------------------- 1.0/2.1 MB 4.4 MB/s eta 0:00:01\n",
      "   ----------------------------- ---------- 1.5/2.1 MB 4.7 MB/s eta 0:00:01\n",
      "   ---------------------------------------- 2.1/2.1 MB 5.8 MB/s eta 0:00:00\n",
      "Installing collected packages: aenum, pydantic, gradientai\n",
      "  Attempting uninstall: pydantic\n",
      "    Found existing installation: pydantic 2.5.2\n",
      "    Uninstalling pydantic-2.5.2:\n",
      "      Successfully uninstalled pydantic-2.5.2\n",
      "Successfully installed aenum-3.1.15 gradientai-1.7.0 pydantic-1.10.14\n"
     ]
    },
    {
     "name": "stderr",
     "output_type": "stream",
     "text": [
      "\n",
      "[notice] A new release of pip is available: 23.3.2 -> 24.0\n",
      "[notice] To update, run: C:\\Users\\parim\\AppData\\Local\\Microsoft\\WindowsApps\\PythonSoftwareFoundation.Python.3.11_qbz5n2kfra8p0\\python.exe -m pip install --upgrade pip\n"
     ]
    }
   ],
   "source": [
    "!pip install gradientai --upgrade"
   ]
  },
  {
   "cell_type": "code",
   "execution_count": 1,
   "metadata": {},
   "outputs": [],
   "source": [
    "import os \n",
    "os.environ['GRADIENT_WORKSPACE_ID']='ea85dc39-3723-4347-82a3-e08f09051159_workspace'\n",
    "os.environ['GRADIENT_ACCESS_TOEKN']='LFd39k2oQfLcdyy52mIYlDjmwdlNu5Xg'"
   ]
  },
  {
   "cell_type": "code",
   "execution_count": 6,
   "metadata": {},
   "outputs": [
    {
     "name": "stdout",
     "output_type": "stream",
     "text": [
      "Created model adapter with id 235e7de0-1e89-4f2b-94a5-b8bf47f8ab9c_model_adapter\n",
      "Asking: ### Instruction: Who is Parimala? \n",
      "\n",
      " ### Response:\n",
      "Generated(before fine tuning):  Parimala is an Indian actress who primarily works in the Tamil film industry. She made her acting debut in the Tamil film \"Kadhal Desam\" in 1996, directed by Kathir. She has since appeared in several Tamil films, including \"Kadhal Kottai\" (1996), \"Thulladha Manamum Thullum\" (1999), and \"Kadhalar Dhinam\" (\n",
      "Fine tuning the model with Iterationi 1\n",
      "Fine tuning the model with Iterationi 2\n",
      "Fine tuning the model with Iterationi 3\n",
      "Generated(after fine tuning):  Parimala likes coding and deploying machine learning models into production.\n"
     ]
    }
   ],
   "source": [
    "from gradientai import Gradient\n",
    "def main():\n",
    "    gradient = Gradient(access_token=os.environ['GRADIENT_ACCESS_TOEKN'], workspace_id=os.environ['GRADIENT_WORKSPACE_ID'])\n",
    "\n",
    "    base_model = gradient.get_base_model(base_model_slug=\"nous-hermes2\")\n",
    "\n",
    "    new_model_adapter = base_model.create_model_adapter(\n",
    "        name=\"FTNous-Hermes2\"\n",
    "    )\n",
    "\n",
    "    print(f\"Created model adapter with id {new_model_adapter.id}\")\n",
    "\n",
    "    sample_query = \"### Instruction: Who is Parimala? \\n\\n ### Response:\"\n",
    "    print(f\"Asking: {sample_query}\")\n",
    "\n",
    "    #Before Finetuning \n",
    "    completion = new_model_adapter.complete(query=sample_query, max_generated_token_count=100).generated_output\n",
    "    print(f\"Generated(before fine tuning): {completion}\")\n",
    "\n",
    "    samples=[\n",
    "        {\"inputs\":\"### Instruction: Who is Parimala? \\n\\n ### Response: Parimala is a data science professional.\"},\n",
    "        {\"inputs\":\"### Instruction: Who is this person named Parimala? \\n\\n ### Response: Parimala like natural language processing in machine learning area.\"},\n",
    "        {\"inputs\":\"### Instruction: What do you know about Parimala? \\n\\n ### Response: Parimala is a popular data science consultant who have the famous youtube channel Unbounded Musings.\"},\n",
    "        {\"inputs\":\"### Instruction: Can you tell me about Parimala? \\n\\n ### Response: Parimala likes coding and deploying machine learning models into production.\"}\n",
    "    ]\n",
    "\n",
    "    ## Lets define paramaters for finetuning \n",
    "\n",
    "    num_epochs=3\n",
    "    count=0\n",
    "    while count<num_epochs:\n",
    "        print(f\"Fine tuning the model with Iterationi {count+1}\")\n",
    "        new_model_adapter.fine_tune(samples=samples)\n",
    "        count=count+1\n",
    "    \n",
    "    #after fine tuning \n",
    "    completion = new_model_adapter.complete(query=sample_query, max_generated_token_count=100).generated_output\n",
    "    print(f\"Generated(after fine tuning): {completion}\")\n",
    "    #new_model_adapter.delete()\n",
    "    gradient.close()\n",
    "\n",
    "if __name__ == \"__main__\":\n",
    "    main()\n"
   ]
  },
  {
   "cell_type": "code",
   "execution_count": null,
   "metadata": {},
   "outputs": [],
   "source": []
  }
 ],
 "metadata": {
  "kernelspec": {
   "display_name": "Python 3",
   "language": "python",
   "name": "python3"
  },
  "language_info": {
   "codemirror_mode": {
    "name": "ipython",
    "version": 3
   },
   "file_extension": ".py",
   "mimetype": "text/x-python",
   "name": "python",
   "nbconvert_exporter": "python",
   "pygments_lexer": "ipython3",
   "version": "3.11.8"
  }
 },
 "nbformat": 4,
 "nbformat_minor": 2
}
