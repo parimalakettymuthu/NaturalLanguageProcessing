{
 "cells": [
  {
   "cell_type": "code",
   "execution_count": null,
   "metadata": {},
   "outputs": [],
   "source": [
    "import numpy as np \n",
    "\n",
    "np.random.seed(42)\n",
    "\n",
    "num_documents = 1000 #synthetic dataset generation\n",
    "num_queries = 10\n",
    "embedding_dim = 300 #dim of vector space\n",
    "\n",
    "document_embeddings = np.random.rand(num_documents, embedding_dim)\n",
    "query_embeddings = np.random.rand(num_queries, embedding_dim)"
   ]
  },
  {
   "cell_type": "code",
   "execution_count": null,
   "metadata": {},
   "outputs": [],
   "source": [
    "from sklearn.metrics.pairwise import cosine_similarity\n",
    "\n",
    "def semantic_search(query_embeddings, document_embeddings):\n",
    "    similarities = cosine_similarity(query_embeddings.reshape(1, -1), document_embeddings)\n",
    "    return np.argsort(similarities[0])[::-1]\n",
    "\n",
    "top_k =5 \n",
    "query_index=0\n",
    "\n",
    "top_document_indices = semantic_search(query_embeddings[query_index], document_embeddings)[:top_k]\n",
    "print(f\"Top {top_k} documents for query {query_index}: {top_document_indices}\")"
   ]
  },
  {
   "cell_type": "code",
   "execution_count": 1,
   "metadata": {},
   "outputs": [
    {
     "ename": "NameError",
     "evalue": "name 'np' is not defined",
     "output_type": "error",
     "traceback": [
      "\u001b[1;31m---------------------------------------------------------------------------\u001b[0m",
      "\u001b[1;31mNameError\u001b[0m                                 Traceback (most recent call last)",
      "Cell \u001b[1;32mIn[1], line 1\u001b[0m\n\u001b[1;32m----> 1\u001b[0m correct_document_indices \u001b[38;5;241m=\u001b[39m \u001b[43mnp\u001b[49m\u001b[38;5;241m.\u001b[39marange(num_queries)\n\u001b[0;32m      3\u001b[0m average_rank \u001b[38;5;241m=\u001b[39m np\u001b[38;5;241m.\u001b[39mmean([np\u001b[38;5;241m.\u001b[39mwhere(semantic_search(query_embeddings[i], document_embeddings) \u001b[38;5;241m==\u001b[39m correct_document_indices[i])[\u001b[38;5;241m0\u001b[39m][\u001b[38;5;241m0\u001b[39m] \u001b[38;5;28;01mfor\u001b[39;00m i \u001b[38;5;129;01min\u001b[39;00m \u001b[38;5;28mrange\u001b[39m(num_queries)])\n\u001b[0;32m      4\u001b[0m \u001b[38;5;28mprint\u001b[39m(\u001b[38;5;124mf\u001b[39m\u001b[38;5;124m\"\u001b[39m\u001b[38;5;124mAverage rank of the correct document: \u001b[39m\u001b[38;5;132;01m{\u001b[39;00maverage_rank\u001b[38;5;132;01m}\u001b[39;00m\u001b[38;5;124m\"\u001b[39m)\n",
      "\u001b[1;31mNameError\u001b[0m: name 'np' is not defined"
     ]
    }
   ],
   "source": [
    "correct_document_indices = np.arange(num_queries)\n",
    "\n",
    "average_rank = np.mean([np.where(semantic_search(query_embeddings[i], document_embeddings) == correct_document_indices[i])[0][0] for i in range(num_queries)])\n",
    "print(f\"Average rank of the correct document: {average_rank}\")"
   ]
  },
  {
   "cell_type": "code",
   "execution_count": null,
   "metadata": {},
   "outputs": [],
   "source": [
    "import matplotlib.pyplot as plt\n",
    "correct_similarities = [cosine_similarity(query_embeddings[i].reshape(1, -1), document_embeddings[correct_document_indices[i]].reshape(1, -1))[0][0] for i in range(num_queries)]\n",
    "incorrect_similarities = [cosine_similarity(query_embeddings[i].reshape(1, -1), document_embeddings[np.random.choice([j for j in range(num_documents) if j !=correct_document_indices[i]])].reshape(1, -1))[0][0] for i in range(num_queries)]\n",
    "\n",
    "plt.hist(correct_similarities, alpha=0.5, label='Correct')\n",
    "plt.hist(incorrect_similarities, alpha=0.5, label='Incorrect')\n",
    "plt.xlabel('Cosine Similarity')\n",
    "plt.ylabel('Frequency')\n",
    "plt.legend()\n",
    "plt.title('Distribution of Cosine Similarities')\n",
    "plt.show()"
   ]
  }
 ],
 "metadata": {
  "kernelspec": {
   "display_name": "Python 3",
   "language": "python",
   "name": "python3"
  },
  "language_info": {
   "codemirror_mode": {
    "name": "ipython",
    "version": 3
   },
   "file_extension": ".py",
   "mimetype": "text/x-python",
   "name": "python",
   "nbconvert_exporter": "python",
   "pygments_lexer": "ipython3",
   "version": "3.11.9"
  }
 },
 "nbformat": 4,
 "nbformat_minor": 2
}
